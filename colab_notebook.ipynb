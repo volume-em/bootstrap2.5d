{
 "cells": [
  {
   "cell_type": "markdown",
   "metadata": {},
   "source": [
    "# Bootstrap2.5d Colab"
   ]
  },
  {
   "cell_type": "markdown",
   "metadata": {
    "id": "Y1XeVAqlG9CP"
   },
   "source": [
    "Before running the script, go to the toolbar above and select:\n",
    "\n",
    "    Runtime → Change Runtime type → Hardware accelerator → GPU\n",
    "\n",
    "After the runtime has been changed, the necessary dependencies need to be downloaded."
   ]
  },
  {
   "cell_type": "code",
   "execution_count": null,
   "metadata": {},
   "outputs": [],
   "source": [
    "# Install dependencies\n",
    "!pip install snakemake tqdm torch simpleitk albumentations -U -q"
   ]
  },
  {
   "cell_type": "code",
   "execution_count": null,
   "metadata": {
    "colab": {
     "base_uri": "https://localhost:8080/",
     "height": 295
    },
    "id": "wCzNcjCVtDjR",
    "outputId": "74241d30-ed80-42e6-a6d1-4aef0b7d0713"
   },
   "outputs": [],
   "source": [
    "#reload modules whenever they are updated\n",
    "%load_ext autoreload\n",
    "%autoreload 2\n",
    "%matplotlib inline"
   ]
  },
  {
   "cell_type": "code",
   "execution_count": null,
   "metadata": {},
   "outputs": [],
   "source": [
    "import os\n",
    "import numpy as np\n",
    "import SimpleITK as sitk\n",
    "from glob import glob\n",
    "from matplotlib import pyplot as plt\n",
    "from matplotlib.colors import LinearSegmentedColormap"
   ]
  },
  {
   "cell_type": "markdown",
   "metadata": {},
   "source": [
    "Next, the bootstrap2.5d directory will be downloaded and the directories for the model's inputs and outputs will be created. "
   ]
  },
  {
   "cell_type": "code",
   "execution_count": null,
   "metadata": {
    "colab": {
     "base_uri": "https://localhost:8080/",
     "height": 139
    },
    "id": "udS1H73YHN7k",
    "outputId": "13b10e38-82bb-4066-d625-15e17ec9a287"
   },
   "outputs": [],
   "source": [
    "# Designate path of bootstrap2.5d directory\n",
    "# Change to /content/drive/My Drive/bootstrap2.5d if downloading to Google Drive\n",
    "boot_dir = \"/content/bootstrap2.5d\"\n",
    "\n",
    "# Make the boot_dir and clone the GitHub repo\n",
    "os.mkdir(boot_dir)\n",
    "!git clone --single-branch --branch colab https://github.com/volume-em/bootstrap2.5d.git {boot_dir}"
   ]
  },
  {
   "cell_type": "code",
   "execution_count": null,
   "metadata": {},
   "outputs": [],
   "source": [
    "# Create data directories\n",
    "os.mkdir(os.path.join(boot_dir, 'models'))\n",
    "os.mkdir(os.path.join(boot_dir, 'data'))\n",
    "os.mkdir(os.path.join(boot_dir, 'data/train'))\n",
    "os.mkdir(os.path.join(boot_dir, 'data/train/images'))\n",
    "os.mkdir(os.path.join(boot_dir, 'data/train/masks'))\n",
    "os.mkdir(os.path.join(boot_dir, 'data/target'))\n",
    "os.mkdir(os.path.join(boot_dir, 'data/target/images'))\n",
    "\n",
    "#this is optional, only applies if there is a ground truth mask for the target images\n",
    "os.mkdir(os.path.join(boot_dir, 'data/target/masks'))"
   ]
  },
  {
   "cell_type": "markdown",
   "metadata": {
    "id": "KUwtHZvQ58Id"
   },
   "source": [
    "The repository has been cloned and the necessary directories have been created, now datasets can be added. To upload data, click the folder icon to the left. From there files can be added by:\n",
    "\n",
    "1. Dragging files from your local file browser into colab\n",
    "2. Right clicking on a folder in colab and pressing upload\n",
    "3. Pressing \"Mount Drive\" at the top of the files tab. This will allow you to access files from your Google Drive in Colab. Files uploaded to Colab runtimes are deleted when sessions end, for permanent storage the bootstrap2.5d repository should be downloaded directly to your Google Drive. Alternatively, if the repo is downloaded to the runtime's temporary storage one can click and drag files into Drive.\n",
    "\n"
   ]
  },
  {
   "cell_type": "markdown",
   "metadata": {},
   "source": [
    "## Example\n",
    "\n",
    "In this example, we are downloading data from the paper [Automatic segmentation of mitochondria and endolysosomes in volumetric electron microscopy data](https://www.sciencedirect.com/science/article/abs/pii/S0010482520300792?via%3Dihub). This dataset contains training volumes with segmented mitochondria and lysosomes. Because the organelles are segmented in separate files, we have to combine them in the cell below."
   ]
  },
  {
   "cell_type": "code",
   "execution_count": null,
   "metadata": {
    "colab": {
     "base_uri": "https://localhost:8080/",
     "height": 34
    },
    "id": "xYhFO2gNridW",
    "outputId": "92e2a3b1-e596-4050-a0fc-435923e125e3"
   },
   "outputs": [],
   "source": [
    "# Run the setup script, save data in the data folder\n",
    "data_dir = os.path.join(boot_dir, 'data')\n",
    "setup_script = os.path.join(boot_dir, 'example_data/setup_data.py')\n",
    "!python {setup_script} {data_dir}"
   ]
  },
  {
   "cell_type": "markdown",
   "metadata": {
    "id": "uu3EB4aWABXA"
   },
   "source": [
    "Now that the dataset has been downloaded, we can visualize what our training volumes and masks look like."
   ]
  },
  {
   "cell_type": "code",
   "execution_count": null,
   "metadata": {},
   "outputs": [],
   "source": [
    "# Create a custom colormap so that background is transparent\n",
    "# get colormap\n",
    "ncolors = 256\n",
    "color_array = plt.get_cmap('viridis')(range(ncolors))\n",
    "\n",
    "# change alpha values\n",
    "#color_array[:,-1] = np.linspace(0.0, 1.0, ncolors)\n",
    "color_array[0, -1] = 0.0\n",
    "\n",
    "# create a colormap object\n",
    "map_object = LinearSegmentedColormap.from_list(name='viridis_alpha',colors=color_array)\n",
    "\n",
    "# register this new colormap with matplotlib\n",
    "plt.register_cmap(cmap=map_object)"
   ]
  },
  {
   "cell_type": "code",
   "execution_count": null,
   "metadata": {
    "colab": {
     "base_uri": "https://localhost:8080/",
     "height": 381
    },
    "id": "3dZ9odRKgp77",
    "outputId": "63dc9a80-ae64-48b1-a28c-835a7ced93fd"
   },
   "outputs": [],
   "source": [
    "# Take some 2D slices of a 3D volume\n",
    "vol_index = 0 #index of file in the train/images directory\n",
    "\n",
    "#get a list of the train image volumes\n",
    "impaths = np.sort(glob(os.path.join(data_dir, 'train/images/*.nii.gz')))\n",
    "impath = impaths[vol_index]\n",
    "\n",
    "#load the image and the mask and convert them to arrays\n",
    "train_image = sitk.GetArrayFromImage(sitk.ReadImage(impath))\n",
    "train_mask = sitk.GetArrayFromImage(sitk.ReadImage(impath.replace('/images/', '/masks/')))\n",
    "\n",
    "#sample 12 evenly spaced slices from the xy plane\n",
    "slice_indices = np.linspace(0, train_image.shape[0] - 1, num=12, dtype='int')\n",
    "\n",
    "#create subplots\n",
    "f, ax = plt.subplots(2, 6, figsize=(16, 8))\n",
    "\n",
    "#plot the images\n",
    "c = 0\n",
    "for y in range(2):\n",
    "    for x in range(6):\n",
    "        slice_index = slice_indices[c]\n",
    "        ax[y, x].set_title(f'Slice {slice_index}')\n",
    "        ax[y, x].imshow(train_image[slice_index], cmap='gray')\n",
    "        ax[y, x].imshow(train_mask[slice_index], alpha=0.3, cmap='viridis_alpha')\n",
    "        ax[y, x].set_yticks([])\n",
    "        ax[y, x].set_xticks([])\n",
    "        c += 1\n",
    "        \n",
    "plt.tight_layout()"
   ]
  },
  {
   "cell_type": "markdown",
   "metadata": {
    "id": "hrbZq0e0AmYg"
   },
   "source": [
    "Now we're ready to run the snakemake. The only config parameter that we need to pass is the number of classes in the segmentation mask. In this case we have 3: background, lysosomes, and mitochondria. For binary segmentation, we would set n_classes=1.\n",
    "\n",
    "Other hyperparameters or file paths can be changed by directly editing the Snakefile. Text files can be edited directly in Colab by double clicking them in the file browser."
   ]
  },
  {
   "cell_type": "code",
   "execution_count": null,
   "metadata": {
    "colab": {
     "base_uri": "https://localhost:8080/",
     "height": 1000
    },
    "id": "ZqkkMeLmIqoO",
    "outputId": "aa95d098-c38c-4ad2-a43e-52d3e00296ca",
    "scrolled": false
   },
   "outputs": [],
   "source": [
    "snakefile = os.path.join(boot_dir, 'Snakefile')\n",
    "!snakemake -s {snakefile} --cores all --config n_classes=3"
   ]
  },
  {
   "cell_type": "markdown",
   "metadata": {
    "id": "SkUG91j1AqUd"
   },
   "source": [
    "Now that predictions have been made, we can visualize how the two algorithms performed."
   ]
  },
  {
   "cell_type": "code",
   "execution_count": null,
   "metadata": {
    "colab": {
     "base_uri": "https://localhost:8080/",
     "height": 345
    },
    "id": "lBhYt1bMIltc",
    "outputId": "b5d5f41d-9891-41f2-a46e-3516437766db"
   },
   "outputs": [],
   "source": [
    "# Take some 2D slices of a 3D volume\n",
    "vol_index = 0 #index of file in the target/images directory\n",
    "\n",
    "#get a list of the train image volumes\n",
    "impaths = np.sort(glob(os.path.join(data_dir, 'target/images/*.nii.gz')))\n",
    "impath = impaths[vol_index]\n",
    "\n",
    "#load the image and mask and predictions and convert them to arrays\n",
    "target_image = sitk.GetArrayFromImage(sitk.ReadImage(impath))\n",
    "target_mask = sitk.GetArrayFromImage(sitk.ReadImage(impath.replace('/images/', '/masks/')))\n",
    "target_super_preds = sitk.GetArrayFromImage(sitk.ReadImage(impath.replace('/images/', '/super_preds/')))\n",
    "target_weaksuper_preds = sitk.GetArrayFromImage(sitk.ReadImage(impath.replace('/images/', '/weaksuper_preds/')))\n",
    "\n",
    "#sample 6 evenly spaced slices from the xy plane\n",
    "slice_indices = np.linspace(0, train_image.shape[0] - 1, num=6, dtype='int')\n",
    "column_names = ['Ground Truth', 'Step 1. Super Prediction', 'Step 2. Weak Super Prediction']\n",
    "\n",
    "#create subplots\n",
    "f, ax = plt.subplots(6, 3, figsize=(16, 20))\n",
    "\n",
    "#plot the images\n",
    "c = 0\n",
    "for y in range(6):\n",
    "    for x, overlay in enumerate([target_mask, target_super_preds, target_weaksuper_preds]):\n",
    "        slice_index = slice_indices[c]\n",
    "        ax[y, x].set_title(column_names[x])\n",
    "        ax[y, x].set_ylabel(f'Slice {slice_index}')\n",
    "        ax[y, x].imshow(target_image[slice_index], cmap='gray')\n",
    "        ax[y, x].imshow(overlay[slice_index], alpha=0.3)\n",
    "        ax[y, x].set_yticks([])\n",
    "        ax[y, x].set_xticks([])\n",
    "    c += 1\n",
    "        \n",
    "plt.tight_layout()"
   ]
  },
  {
   "cell_type": "code",
   "execution_count": null,
   "metadata": {},
   "outputs": [],
   "source": []
  }
 ],
 "metadata": {
  "accelerator": "GPU",
  "colab": {
   "collapsed_sections": [],
   "name": "bootstrap2.5d.ipynb",
   "provenance": []
  },
  "kernelspec": {
   "display_name": "Python 3",
   "language": "python",
   "name": "python3"
  },
  "language_info": {
   "codemirror_mode": {
    "name": "ipython",
    "version": 3
   },
   "file_extension": ".py",
   "mimetype": "text/x-python",
   "name": "python",
   "nbconvert_exporter": "python",
   "pygments_lexer": "ipython3",
   "version": "3.7.6"
  }
 },
 "nbformat": 4,
 "nbformat_minor": 1
}
